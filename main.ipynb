{
 "cells": [
  {
   "cell_type": "code",
   "execution_count": 1,
   "metadata": {},
   "outputs": [
    {
     "data": {
      "text/plain": [
       "False"
      ]
     },
     "execution_count": 1,
     "metadata": {},
     "output_type": "execute_result"
    }
   ],
   "source": [
    "try:\n",
    "    from google.colab import drive\n",
    "    IN_COLAB = True\n",
    "except:\n",
    "    IN_COLAB = False\n",
    "\n",
    "\n",
    "if IN_COLAB:\n",
    "    drive.mount(\"/content/drive/\")\n",
    "    %cd ./drive/MyDrive/Projekte/tsf/\n",
    "\n",
    "IN_COLAB"
   ]
  },
  {
   "cell_type": "code",
   "execution_count": 2,
   "metadata": {},
   "outputs": [],
   "source": [
    "import pandas as pd\n",
    "import src\n",
    "import importlib\n",
    "importlib.reload(src)\n",
    "\n",
    "from torch.utils.data import DataLoader"
   ]
  },
  {
   "cell_type": "code",
   "execution_count": 3,
   "metadata": {},
   "outputs": [],
   "source": [
    "CFG = {\n",
    "    \"looking_back_window\": 48,\n",
    "    \"forecast_horizon\": 24,\n",
    "    \"batch_size\": 512,\n",
    "    \"dev_size\": 0.1,\n",
    "    \"num_workers\": 2 if IN_COLAB else 0,\n",
    "    \"lr\": 0.01,\n",
    "    \"dropout\": 0,\n",
    "    \"additional_blocks\": 0,\n",
    "    \"hidden_channels_factor\": 1\n",
    "}"
   ]
  },
  {
   "cell_type": "markdown",
   "metadata": {},
   "source": [
    "### Data"
   ]
  },
  {
   "cell_type": "code",
   "execution_count": 4,
   "metadata": {},
   "outputs": [
    {
     "data": {
      "text/plain": [
       "(2, 2)"
      ]
     },
     "execution_count": 4,
     "metadata": {},
     "output_type": "execute_result"
    }
   ],
   "source": [
    "dataset, data_loader = src.get_ett(\n",
    "    looking_back_window=CFG[\"looking_back_window\"],\n",
    "    forecast_horizon=CFG[\"forecast_horizon\"],\n",
    "    num_workers=CFG[\"num_workers\"],\n",
    "    batch_size=CFG[\"batch_size\"]\n",
    ")\n",
    "len(dataset), len(data_loader)"
   ]
  },
  {
   "cell_type": "code",
   "execution_count": 5,
   "metadata": {},
   "outputs": [
    {
     "name": "stdout",
     "output_type": "stream",
     "text": [
      "11092\n",
      "TCN(\n",
      "  (m): Sequential(\n",
      "    (0): ResidualBlock(\n",
      "      (res): Conv1d(1, 24, kernel_size=(1,), stride=(1,))\n",
      "      (m): Sequential(\n",
      "        (0): ConstantPad1d(padding=(2, 0), value=0)\n",
      "        (1): Conv1d(1, 24, kernel_size=(3,), stride=(1,))\n",
      "        (2): BatchNorm1d(24, eps=1e-05, momentum=0.1, affine=True, track_running_stats=True)\n",
      "        (3): ReLU()\n",
      "        (4): Dropout(p=0, inplace=False)\n",
      "        (5): ConstantPad1d(padding=(2, 0), value=0)\n",
      "        (6): Conv1d(24, 24, kernel_size=(3,), stride=(1,))\n",
      "        (7): BatchNorm1d(24, eps=1e-05, momentum=0.1, affine=True, track_running_stats=True)\n",
      "      )\n",
      "    )\n",
      "    (g_0): ReLU()\n",
      "    (d_0): Dropout(p=0, inplace=False)\n",
      "    (1): ResidualBlock(\n",
      "      (m): Sequential(\n",
      "        (0): ConstantPad1d(padding=(4, 0), value=0)\n",
      "        (1): Conv1d(24, 24, kernel_size=(3,), stride=(1,), dilation=(2,))\n",
      "        (2): BatchNorm1d(24, eps=1e-05, momentum=0.1, affine=True, track_running_stats=True)\n",
      "        (3): ReLU()\n",
      "        (4): Dropout(p=0, inplace=False)\n",
      "        (5): ConstantPad1d(padding=(4, 0), value=0)\n",
      "        (6): Conv1d(24, 24, kernel_size=(3,), stride=(1,), dilation=(2,))\n",
      "        (7): BatchNorm1d(24, eps=1e-05, momentum=0.1, affine=True, track_running_stats=True)\n",
      "      )\n",
      "    )\n",
      "    (g_1): ReLU()\n",
      "    (d_1): Dropout(p=0, inplace=False)\n",
      "    (2): ResidualBlock(\n",
      "      (m): Sequential(\n",
      "        (0): ConstantPad1d(padding=(8, 0), value=0)\n",
      "        (1): Conv1d(24, 24, kernel_size=(3,), stride=(1,), dilation=(4,))\n",
      "        (2): BatchNorm1d(24, eps=1e-05, momentum=0.1, affine=True, track_running_stats=True)\n",
      "        (3): ReLU()\n",
      "        (4): Dropout(p=0, inplace=False)\n",
      "        (5): ConstantPad1d(padding=(8, 0), value=0)\n",
      "        (6): Conv1d(24, 24, kernel_size=(3,), stride=(1,), dilation=(4,))\n",
      "        (7): BatchNorm1d(24, eps=1e-05, momentum=0.1, affine=True, track_running_stats=True)\n",
      "      )\n",
      "    )\n",
      "    (g_2): ReLU()\n",
      "    (d_2): Dropout(p=0, inplace=False)\n",
      "    (3): ResidualBlock(\n",
      "      (res): Conv1d(24, 1, kernel_size=(1,), stride=(1,))\n",
      "      (m): Sequential(\n",
      "        (0): ConstantPad1d(padding=(16, 0), value=0)\n",
      "        (1): Conv1d(24, 24, kernel_size=(3,), stride=(1,), dilation=(8,))\n",
      "        (2): BatchNorm1d(24, eps=1e-05, momentum=0.1, affine=True, track_running_stats=True)\n",
      "        (3): ReLU()\n",
      "        (4): Dropout(p=0, inplace=False)\n",
      "        (5): ConstantPad1d(padding=(16, 0), value=0)\n",
      "        (6): Conv1d(24, 1, kernel_size=(3,), stride=(1,), dilation=(8,))\n",
      "        (7): BatchNorm1d(1, eps=1e-05, momentum=0.1, affine=True, track_running_stats=True)\n",
      "      )\n",
      "    )\n",
      "  )\n",
      ")\n"
     ]
    }
   ],
   "source": [
    "net = src.TCN( \n",
    "    CFG[\"looking_back_window\"],\n",
    "    CFG[\"forecast_horizon\"],\n",
    "    dataset[\"train\"].features, \n",
    "    dropout=CFG[\"dropout\"],\n",
    "    additional_blocks=CFG[\"additional_blocks\"],\n",
    "    hidden_channels_factor=CFG[\"hidden_channels_factor\"]\n",
    ")\n",
    "print(net.amount_parameters)\n",
    "print(net)"
   ]
  },
  {
   "cell_type": "code",
   "execution_count": null,
   "metadata": {},
   "outputs": [
    {
     "name": "stdout",
     "output_type": "stream",
     "text": [
      "(1) train \t l1=0.31\n",
      "(1) dev \t l1=0.23\n",
      "(2) train \t l1=0.26\n"
     ]
    }
   ],
   "source": [
    "trainer = src.Trainer()\n",
    "trainer.fit(net, data_loader, epochs=100)"
   ]
  },
  {
   "cell_type": "code",
   "execution_count": null,
   "metadata": {},
   "outputs": [],
   "source": [
    "y_true, y_pred = trainer.predict(net, data_loader)\n",
    "len(y_true), len(y_pred)"
   ]
  },
  {
   "cell_type": "code",
   "execution_count": null,
   "metadata": {},
   "outputs": [],
   "source": [
    "import matplotlib.pyplot as plt\n",
    "\n",
    "fig, axs = plt.subplots(2, figsize=(20, 12))\n",
    "zoom_idx, zoom_size = 500, 24*7\n",
    "\n",
    "\n",
    "axs[0].plot(y_true, label=\"y_true\")\n",
    "axs[0].plot(y_pred, label=\"y_pred\")\n",
    "axs[0].legend()\n",
    "axs[1].plot(y_true[zoom_idx:zoom_idx+zoom_size], label=\"y_true\")\n",
    "axs[1].plot(y_pred[zoom_idx:zoom_idx+zoom_size], label=\"y_pred\")\n",
    "axs[1].legend()"
   ]
  },
  {
   "cell_type": "code",
   "execution_count": null,
   "metadata": {},
   "outputs": [],
   "source": []
  }
 ],
 "metadata": {
  "kernelspec": {
   "display_name": "Python 3",
   "language": "python",
   "name": "python3"
  },
  "language_info": {
   "codemirror_mode": {
    "name": "ipython",
    "version": 3
   },
   "file_extension": ".py",
   "mimetype": "text/x-python",
   "name": "python",
   "nbconvert_exporter": "python",
   "pygments_lexer": "ipython3",
   "version": "3.8.12"
  }
 },
 "nbformat": 4,
 "nbformat_minor": 4
}
